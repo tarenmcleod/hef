{
 "cells": [
  {
   "cell_type": "markdown",
   "metadata": {},
   "source": [
    "# Calculate the annual precipitation timeseries from ERA5\n",
    "\n",
    "**This notebook demonstrates how to retrieve, process, and plot the data displayed in the [ERA Explorer](https://apps.climate.copernicus.eu/era-explorer/)**\n",
    "\n",
    "==> For further training materials, consider the [Copernicus Climate Change Service (C3S) data tutorials](https://ecmwf-projects.github.io/copernicus-training-c3s/intro.html)\n",
    "\n",
    "In this example we will be using `earthkit` to retrieve the data and standard `Python` packages to process and plot it."
   ]
  },
  {
   "cell_type": "code",
   "execution_count": 1,
   "metadata": {},
   "outputs": [],
   "source": [
    "import numpy as np \n",
    "import pandas as pd\n",
    "import matplotlib.pyplot as plt\n",
    "from matplotlib.ticker import MultipleLocator\n",
    "import earthkit.data"
   ]
  },
  {
   "cell_type": "markdown",
   "metadata": {},
   "source": [
    "If you want to run this code yourself, make sure to get a CDS API key from [the CDS website](https://cds.climate.copernicus.eu/).\n",
    "\n",
    "Following the guidance there, you'll then need to set up your local `.cdsapirc` to be able to authenticate with the CDS and download data. Then, you will be able to customise the date ranges, variables, and much more!"
   ]
  },
  {
   "cell_type": "markdown",
   "metadata": {},
   "source": [
    "This is the latitude/longitude that we will extract the nearest grid cell from. You can change these to plot different locations. You can see the currently used ones in the ERA Explorer URL. In this example we are plotting data at the gridpoint closest to Brussels, Belgium. "
   ]
  },
  {
   "cell_type": "code",
   "execution_count": 3,
   "metadata": {},
   "outputs": [],
   "source": [
    "## updated for HEF\n",
    "lat = 46.79\n",
    "lng = 10.74\n"
   ]
  },
  {
   "cell_type": "markdown",
   "metadata": {},
   "source": [
    "This is the variable we are getting from the ERA dataset, and the time period"
   ]
  },
  {
   "cell_type": "code",
   "execution_count": 4,
   "metadata": {},
   "outputs": [],
   "source": [
    "variable = \"total_precipitation\"\n",
    "date_range = [\"1940-01-01\", \"2100-12-31\"]"
   ]
  },
  {
   "cell_type": "markdown",
   "metadata": {},
   "source": [
    "For convenience, we make a function to handle the data retrieval:"
   ]
  },
  {
   "cell_type": "code",
   "execution_count": 5,
   "metadata": {},
   "outputs": [],
   "source": [
    "def retrieve_data(variable, date_range, lat, lng):\n",
    "    # Define the dataset and request parameters\n",
    "    dataset = \"reanalysis-era5-single-levels-timeseries\"\n",
    "    request = {\n",
    "        \"variable\": [\n",
    "        variable,  # Variable to retrieve\n",
    "        ],\n",
    "        \"date\": date_range,  # Date range for the data\n",
    "        \"location\": {\"longitude\": lng, \"latitude\": lat},  # Location coordinates\n",
    "        \"data_format\": \"netcdf\"  # Format of the retrieved data\n",
    "    }\n",
    "\n",
    "    # Use \"earthkit\" to retrieve the data\n",
    "    ekds = earthkit.data.from_source(\n",
    "        \"cds\", dataset, request\n",
    "    ).to_xarray()\n",
    "\n",
    "    return ekds"
   ]
  },
  {
   "cell_type": "markdown",
   "metadata": {},
   "source": [
    "Now let's download the data!"
   ]
  },
  {
   "cell_type": "code",
   "execution_count": 6,
   "metadata": {
    "tags": [
     "remove-output"
    ]
   },
   "outputs": [
    {
     "name": "stderr",
     "output_type": "stream",
     "text": [
      "2025-04-16 14:49:44,365 INFO [2024-09-26T00:00:00] Watch our [Forum](https://forum.ecmwf.int/) for Announcements, news and other discussed topics.\n",
      "2025-04-16 14:49:44,367 WARNING [2024-06-16T00:00:00] CDS API syntax is changed and some keys or parameter names may have also changed. To avoid requests failing, please use the \"Show API request code\" tool on the dataset Download Form to check you are using the correct syntax for your API request.\n",
      "2025-04-16 14:49:44,507 INFO [2024-09-26T00:00:00] Watch our [Forum](https://forum.ecmwf.int/) for Announcements, news and other discussed topics.\n",
      "2025-04-16 14:49:44,509 WARNING [2024-06-16T00:00:00] CDS API syntax is changed and some keys or parameter names may have also changed. To avoid requests failing, please use the \"Show API request code\" tool on the dataset Download Form to check you are using the correct syntax for your API request.\n",
      "2025-04-16 14:49:44,700 WARNING [2025-03-17T00:00:00] Please be aware that the generation of this dataset is using an alternative source for the ERA5 data and may be subject to changes over time (e.g. file format, data file structure, deprecation etc). This dataset should therefore be regarded as “experimental” and is **not recommended for use in a production environment**. \n",
      "\n",
      "Notification of changes via this catalogue entry banner and/or in the [Forum](https://forum.ecmwf.int/) will be provided on best efforts.\n",
      "2025-04-16 14:49:44,703 INFO Request ID is f82883f0-a929-421a-beb4-9e6967b2743c\n",
      "2025-04-16 14:49:44,780 INFO status has been updated to accepted\n",
      "2025-04-16 14:49:58,712 INFO status has been updated to successful\n"
     ]
    },
    {
     "data": {
      "application/vnd.jupyter.widget-view+json": {
       "model_id": "cbd911a8e21c43b9b9787228fab3d566",
       "version_major": 2,
       "version_minor": 0
      },
      "text/plain": [
       "c7d2368375ba054765e6023f60b44f9f.zip:   0%|          | 0.00/8.57M [00:00<?, ?B/s]"
      ]
     },
     "metadata": {},
     "output_type": "display_data"
    },
    {
     "data": {
      "application/vnd.jupyter.widget-view+json": {
       "model_id": "67604536db99413abf1cd0f447383943",
       "version_major": 2,
       "version_minor": 0
      },
      "text/plain": [
       "  0%|          | 0/1 [00:00<?, ?it/s]"
      ]
     },
     "metadata": {},
     "output_type": "display_data"
    }
   ],
   "source": [
    "data = retrieve_data(variable, date_range, lat, lng)"
   ]
  },
  {
   "cell_type": "markdown",
   "metadata": {},
   "source": [
    "And let's make some bespoke functions to process the data. Each one is described with a \"\"\"`docstring`\"\"\""
   ]
  },
  {
   "cell_type": "code",
   "execution_count": 17,
   "metadata": {},
   "outputs": [
    {
     "name": "stdout",
     "output_type": "stream",
     "text": [
      "<xarray.DataArray 'tp' (valid_time: 86)> Size: 344B\n",
      "dask.array<mul, shape=(86,), dtype=float32, chunksize=(1,), chunktype=numpy.ndarray>\n",
      "Coordinates:\n",
      "    latitude    float64 8B ...\n",
      "    longitude   float64 8B ...\n",
      "  * valid_time  (valid_time) datetime64[ns] 688B 1940-09-30 ... 2025-09-30\n",
      "Index([1941, 1942, 1943, 1944, 1945, 1946, 1947, 1948, 1949, 1950, 1951, 1952,\n",
      "       1953, 1954, 1955, 1956, 1957, 1958, 1959, 1960, 1961, 1962, 1963, 1964,\n",
      "       1965, 1966, 1967, 1968, 1969, 1970, 1971, 1972, 1973, 1974, 1975, 1976,\n",
      "       1977, 1978, 1979, 1980, 1981, 1982, 1983, 1984, 1985, 1986, 1987, 1988,\n",
      "       1989, 1990, 1991, 1992, 1993, 1994, 1995, 1996, 1997, 1998, 1999, 2000,\n",
      "       2001, 2002, 2003, 2004, 2005, 2006, 2007, 2008, 2009, 2010, 2011, 2012,\n",
      "       2013, 2014, 2015, 2016, 2017, 2018, 2019, 2020, 2021, 2022, 2023, 2024,\n",
      "       2025, 2026],\n",
      "      dtype='int32', name='valid_time') [ 691.1042   879.09033  801.93304  866.9357   834.89514  972.40186\n",
      "  898.2315   790.1473  1112.1641   766.52124 1036.334   1168.9598\n",
      "  954.05414 1073.2565  1021.16034 1025.3348   950.67523  922.11487\n",
      " 1031.0962   934.546   1137.6517  1001.0161  1052.8944  1146.2548\n",
      "  900.88965 1250.4688  1154.1268  1280.4003  1104.5966   989.1066\n",
      "  996.4368   914.7005  1012.8334   962.83295 1140.0521  1116.8291\n",
      "  934.24725 1327.7156  1105.0605  1067.4694  1075.2786  1228.2112\n",
      " 1169.966   1242.3754  1021.30817 1071.5862  1035.585   1087.7025\n",
      " 1133.583   1022.1245   892.41956 1042.4347  1071.8064  1067.6315\n",
      " 1091.5549  1080.6202   928.6897  1210.1298  1065.9194  1304.4296\n",
      " 1160.546   1476.4843  1031.3821   928.62036 1063.0629  1004.4692\n",
      "  928.72784 1019.5136  1040.221   1151.2719  1127.8925   954.86285\n",
      " 1089.7542  1254.3668  1160.1279  1092.0243  1203.0664  1001.67224\n",
      " 1105.908   1348.1655  1315.8846  1290.6816  1057.5156  1147.9702\n",
      " 1316.6981   212.75473]\n"
     ]
    }
   ],
   "source": [
    "def truncate_data(var):\n",
    "    \"\"\"\n",
    "    Truncate the input dataset to include only complete years where the final hour\n",
    "    of December 31st is present in the dataset.\n",
    "\n",
    "    Args:\n",
    "        var (xarray.Dataset or xarray.DataArray): Input dataset containing a 'valid_time'\n",
    "                                                  coordinate with datetime information.\n",
    "\n",
    "    Returns:\n",
    "        xarray.Dataset or xarray.DataArray: The truncated dataset containing data\n",
    "                                            only for complete years.\n",
    "    \"\"\"\n",
    "    # Create a range of the final hours of each year in the dataset\n",
    "    start_year = var.valid_time.dt.year.min().item()\n",
    "    end_year = var.valid_time.dt.year.max().item()\n",
    "\n",
    "    final_hours = pd.date_range(\n",
    "        f\"{start_year}-12-31T23:00:00\", \n",
    "        f\"{end_year}-12-31T23:00:00\", \n",
    "        freq=\"YE\"\n",
    "    )\n",
    "\n",
    "    # Filter only the years where the final hour is in the dataset\n",
    "    valid_years = [\n",
    "        dt.year for dt in final_hours if dt in var.valid_time\n",
    "    ]\n",
    "\n",
    "    # Select data for those years\n",
    "    var_truncated = var.sel(\n",
    "        valid_time=var.valid_time.dt.year.isin(valid_years)\n",
    "    )\n",
    "\n",
    "    return var_truncated\n",
    "\n",
    "\n",
    "# Function to compute the annual mean precipitation time series\n",
    "def precipAnnualTimeseries():\n",
    "    \"\"\"\n",
    "    Processes the annual timeseries of precipitation data.\n",
    "\n",
    "    This function reads precipitation data from a NetCDF file, removes data\n",
    "    for the incomplete current year, resamples the data to annual sums, and\n",
    "    converts the values to millimeters.\n",
    "\n",
    "    Returns:\n",
    "        tuple: A tuple containing two elements:\n",
    "            - years (numpy.ndarray): Years corresponding to the annual precip sums.\n",
    "            - values (numpy.ndarray): Annual precipitation sums in millimeters.\n",
    "    \"\"\"\n",
    "    data_tp_pt = data.tp\n",
    "\n",
    "    # Remove incomplete years\n",
    "    data_tp_pt_trun = truncate_data(data_tp_pt)\n",
    "\n",
    "    # Resample the data to annual sums and convert to mm\n",
    "    data_tp_pt_agg = data_tp_pt_trun.resample(\n",
    "        valid_time=\"YE\"\n",
    "    ).sum() * 1000\n",
    "\n",
    "    years = data_tp_pt_agg.valid_time.to_index().year\n",
    "    values = data_tp_pt_agg.values.flatten()\n",
    "\n",
    "    # Get the actual lat/lon used\n",
    "    nearest_lat = data_tp_pt.latitude.values\n",
    "    nearest_lng = data_tp_pt.longitude.values\n",
    "\n",
    "    return years, values, nearest_lat, nearest_lng\n",
    "\n",
    "def precipHydroyearTimeseries():\n",
    "    \"\"\"\n",
    "    Processes the annual timeseries of precipitation data.\n",
    "\n",
    "    This function reads precipitation data from a NetCDF file, removes data\n",
    "    for the incomplete current year, resamples the data to annual sums, and\n",
    "    converts the values to millimeters.\n",
    "\n",
    "    Returns:\n",
    "        tuple: A tuple containing two elements:\n",
    "            - years (numpy.ndarray): Years corresponding to the annual precip sums.\n",
    "            - values (numpy.ndarray): Annual precipitation sums in millimeters.\n",
    "    \"\"\"\n",
    "    data_tp_pt = data.tp\n",
    "\n",
    "    # Remove incomplete years\n",
    "    data_tp_pt_trun = truncate_data(data_tp_pt)\n",
    "\n",
    "    # Resample the data to annual sums and convert to mm\n",
    "    data_tp_pt_agg = data_tp_pt_trun.resample(\n",
    "        valid_time=\"YE-SEP\"  ## Check this is right.\n",
    "    ).sum() * 1000\n",
    "\n",
    "    years = data_tp_pt_agg.valid_time.to_index().year # 2023/2024 year is 2024 hydro year.\n",
    "    values = data_tp_pt_agg.values.flatten()\n",
    "\n",
    "    # Get the actual lat/lon used\n",
    "    nearest_lat = data_tp_pt.latitude.values\n",
    "    nearest_lng = data_tp_pt.longitude.values\n",
    "\n",
    "    return years, values, nearest_lat, nearest_lng\n",
    "\n",
    "\n",
    "\n",
    "# Call the function and retrieve the data\n",
    "#years1, ts1, nearest_lat, nearest_lng = precipAnnualTimeseries()\n",
    "years1, ts1, nearest_lat, nearest_lng = precipHydroyearTimeseries()\n",
    "\n",
    "print(years1, ts1)\n"
   ]
  },
  {
   "cell_type": "code",
   "execution_count": 13,
   "metadata": {},
   "outputs": [
    {
     "name": "stdout",
     "output_type": "stream",
     "text": [
      "Index([1940, 1941, 1942, 1943, 1944, 1945, 1946, 1947, 1948, 1949, 1950, 1951,\n",
      "       1952, 1953, 1954, 1955, 1956, 1957, 1958, 1959, 1960, 1961, 1962, 1963,\n",
      "       1964, 1965, 1966, 1967, 1968, 1969, 1970, 1971, 1972, 1973, 1974, 1975,\n",
      "       1976, 1977, 1978, 1979, 1980, 1981, 1982, 1983, 1984, 1985, 1986, 1987,\n",
      "       1988, 1989, 1990, 1991, 1992, 1993, 1994, 1995, 1996, 1997, 1998, 1999,\n",
      "       2000, 2001, 2002, 2003, 2004, 2005, 2006, 2007, 2008, 2009, 2010, 2011,\n",
      "       2012, 2013, 2014, 2015, 2016, 2017, 2018, 2019, 2020, 2021, 2022, 2023,\n",
      "       2024],\n",
      "      dtype='int32', name='valid_time') [ 865.65063  839.2174   793.81323  826.1564  1025.6453   856.3674\n",
      "  851.32935  944.00977  974.9856   911.76917  986.4907  1217.2882\n",
      " 1047.9161   847.2095  1118.783    934.9749   969.65076  917.804\n",
      " 1167.2843   970.95966 1186.8849   885.40027 1006.75916 1136.5216\n",
      "  994.1854  1155.4468  1301.5623  1101.067   1132.5503   901.75604\n",
      " 1104.1643   855.77057 1034.0266  1028.538   1129.9426  1049.5546\n",
      " 1035.3217  1207.5863  1129.5841  1271.7435   978.3435  1257.6879\n",
      " 1117.4276  1172.0741   989.78424 1050.0963  1046.4094  1143.3003\n",
      " 1133.348    943.58514 1046.6526  1024.2319  1139.3203  1054.8168\n",
      "  941.63153 1039.7354  1133.4076  1095.9713  1045.7108  1345.1213\n",
      " 1393.0142  1149.1256  1328.8519   804.292    936.9173  1003.016\n",
      "  897.07947 1052.7024  1190.701   1074.1382  1144.7634   886.9061\n",
      " 1179.1782  1268.9469  1130.6455   945.9367  1196.9624  1119.3853\n",
      " 1179.873   1462.5826  1244.2552  1136.4536  1065.9971  1367.4912\n",
      " 1079.9976 ] 46.75 10.75\n",
      "   calendar_year           tp Latitude Longitude\n",
      "0           1940   865.650635    46.75     10.75\n",
      "1           1941   839.217407    46.75     10.75\n",
      "2           1942   793.813232    46.75     10.75\n",
      "3           1943   826.156372    46.75     10.75\n",
      "4           1944  1025.645264    46.75     10.75\n"
     ]
    }
   ],
   "source": [
    "print(years1, ts1, nearest_lat, nearest_lng)\n",
    "\n",
    "# I want to save in a data frame. \n",
    "\n",
    "import pandas as pd\n",
    "\n",
    "# Call the function to get the data\n",
    "years1, ts1, nearest_lat, nearest_lng = precipAnnualTimeseries()\n",
    "df.to_pickle(\"precip_annual_data.pkl\")\n",
    "\n",
    "years1, ts1, nearest_lat, nearest_lng = precipHydroyearTimeseries()\n",
    "\n",
    "\n",
    "# Create a pandas DataFrame\n",
    "df = pd.DataFrame({\n",
    "    'calendar_year': years1,\n",
    "    'tp': ts1,\n",
    "    'Latitude': [nearest_lat] * len(years1),  # Repeat lat for all rows\n",
    "    'Longitude': [nearest_lng] * len(years1)  # Repeat lng for all rows\n",
    "})\n",
    "\n",
    "# Display DataFrame\n",
    "print(df.head())\n",
    "\n",
    "df.to_pickle(\"precip_annual_data.pkl\")\n"
   ]
  },
  {
   "cell_type": "markdown",
   "metadata": {},
   "source": [
    "And finally, let's set up the plot nicely. This can easily be customised, but for now we do something similar to [ERA Explorer](https://apps.copernicus-climate.eu/c3s-apps/era-explorer)"
   ]
  },
  {
   "cell_type": "code",
   "execution_count": 14,
   "metadata": {},
   "outputs": [
    {
     "data": {
      "image/png": "[encoded data removed]",
      "text/plain": [
       "<Figure size 700x600 with 1 Axes>"
      ]
     },
     "metadata": {},
     "output_type": "display_data"
    }
   ],
   "source": [
    "# Determine suffix for latitude (N/S) and longitude (E/W) based on their sign\n",
    "latSuffix = 'N' if nearest_lat > 0 else 'S'  # 'N' for +ve latitude, 'S' for -ve latitude\n",
    "lngSuffix = 'E' if nearest_lng > 0 else 'W'  # 'E' for +ve longitude, 'W' for -ve longitude\n",
    "\n",
    "# Create a new figure with a specified size\n",
    "plt.figure(figsize=(7, 6))\n",
    "\n",
    "# Plot the data as a bar chart\n",
    "plt.bar(\n",
    "    years1,                # X-axis values (years)\n",
    "    ts1,                   # Y-axis values (precipitation values)\n",
    "    width=1,               # Set the width of each bar to 1 unit\n",
    "    color='#596DAB',       # Bar fill color\n",
    "    label=(\n",
    "        f'{abs(nearest_lat):.2f} °{latSuffix}, '\n",
    "        f'{abs(nearest_lng):.2f} °{lngSuffix}'\n",
    "    ),                     # Location label for the legend\n",
    "    edgecolor='white',     # Color of the edges of the bars\n",
    ")\n",
    "\n",
    "# Add a legend with a transparent background\n",
    "plt.legend(framealpha=0)\n",
    "\n",
    "# Customize x-axis ticks\n",
    "plt.xticks(\n",
    "    np.arange(1940, 2100, 5),  # X-ticks every 5 years\n",
    "    rotation=90                # Rotate tick labels vertically\n",
    ")\n",
    "\n",
    "# Set x-axis limits with a small buffer at the edges\n",
    "plt.xlim(years1[0] - 0.5, years1[-1] + 0.5)\n",
    "\n",
    "# Add minor ticks on the x-axis (every year)\n",
    "plt.gca().xaxis.set_minor_locator(MultipleLocator(1))  # Minor ticks every 1 year\n",
    "\n",
    "# Customize axis labels\n",
    "plt.xlabel('Year', fontsize=12)\n",
    "plt.ylabel('Precipitation [mm/year]', fontsize=12)\n",
    "\n",
    "# Add a title to the plot\n",
    "plt.title('Annual mean precipitation from ERA5', fontsize=14)\n",
    "\n",
    "# Adjust layout to prevent overlapping labels\n",
    "plt.tight_layout()\n",
    "\n",
    "# Display the plot\n",
    "plt.show()"
   ]
  },
  {
   "cell_type": "code",
   "execution_count": 15,
   "metadata": {},
   "outputs": [
    {
     "data": {
      "image/png": "[encoded data removed]",
      "text/plain": [
       "<Figure size 700x600 with 1 Axes>"
      ]
     },
     "metadata": {},
     "output_type": "display_data"
    }
   ],
   "source": [
    "# Determine suffix for latitude (N/S) and longitude (E/W) based on their sign\n",
    "latSuffix = 'N' if nearest_lat > 0 else 'S'  # 'N' for +ve latitude, 'S' for -ve latitude\n",
    "lngSuffix = 'E' if nearest_lng > 0 else 'W'  # 'E' for +ve longitude, 'W' for -ve longitude\n",
    "\n",
    "# Create a new figure with a specified size\n",
    "plt.figure(figsize=(7, 6))\n",
    "\n",
    "# Plot the data as a bar chart\n",
    "plt.bar(\n",
    "    years1,                # X-axis values (years)\n",
    "    ts1,                   # Y-axis values (precipitation values)\n",
    "    width=1,               # Set the width of each bar to 1 unit\n",
    "    color='#596DAB',       # Bar fill color\n",
    "    label=(\n",
    "        f'{abs(nearest_lat):.2f} °{latSuffix}, '\n",
    "        f'{abs(nearest_lng):.2f} °{lngSuffix}'\n",
    "    ),                     # Location label for the legend\n",
    "    edgecolor='white',     # Color of the edges of the bars\n",
    ")\n",
    "\n",
    "# Add a legend with a transparent background\n",
    "plt.legend(framealpha=0)\n",
    "\n",
    "# Customize x-axis ticks\n",
    "plt.xticks(\n",
    "    np.arange(1940, 2100, 5),  # X-ticks every 5 years\n",
    "    rotation=90                # Rotate tick labels vertically\n",
    ")\n",
    "\n",
    "# Set x-axis limits with a small buffer at the edges\n",
    "plt.xlim(years1[0] - 0.5, years1[-1] + 0.5)\n",
    "\n",
    "# Add minor ticks on the x-axis (every year)\n",
    "plt.gca().xaxis.set_minor_locator(MultipleLocator(1))  # Minor ticks every 1 year\n",
    "\n",
    "# Customize axis labels\n",
    "plt.xlabel('Year', fontsize=12)\n",
    "plt.ylabel('Precipitation [mm/year]', fontsize=12)\n",
    "\n",
    "# Add a title to the plot\n",
    "plt.title('Annual mean precipitation from ERA5', fontsize=14)\n",
    "\n",
    "# Adjust layout to prevent overlapping labels\n",
    "plt.tight_layout()\n",
    "\n",
    "# Display the plot\n",
    "plt.show()"
   ]
  },
  {
   "cell_type": "code",
   "execution_count": null,
   "metadata": {},
   "outputs": [],
   "source": []
  }
 ],
 "metadata": {
  "kernelspec": {
   "display_name": "Python 3 (ipykernel)",
   "language": "python",
   "name": "python3"
  },
  "language_info": {
   "codemirror_mode": {
    "name": "ipython",
    "version": 3
   },
   "file_extension": ".py",
   "mimetype": "text/x-python",
   "name": "python",
   "nbconvert_exporter": "python",
   "pygments_lexer": "ipython3",
   "version": "3.10.16"
  }
 },
 "nbformat": 4,
 "nbformat_minor": 4
}
